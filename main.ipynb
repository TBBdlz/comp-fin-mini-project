{
 "cells": [
  {
   "cell_type": "code",
   "execution_count": 1,
   "metadata": {},
   "outputs": [
    {
     "data": {
      "text/plain": [
       "xₙ (generic function with 1 method)"
      ]
     },
     "metadata": {},
     "output_type": "display_data"
    }
   ],
   "source": [
    "function xₙ(n)\n",
    "\tif n == 0\n",
    "\t\treturn x₀\n",
    "\telseif n == 1\n",
    "\t\treturn x₁\n",
    "\telse\n",
    "\t\treturn (3*xₙ(n-1) + 2*xₙ(n-2)) % 19 + 2\n",
    "\tend\n",
    "end"
   ]
  },
  {
   "cell_type": "code",
   "execution_count": 2,
   "metadata": {},
   "outputs": [
    {
     "name": "stdout",
     "output_type": "stream",
     "text": [
      "x₂ = 12\n",
      "ω̂ = 18\n"
     ]
    }
   ],
   "source": [
    "ID = 6330401742\n",
    "x₀ = ID % 100\n",
    "x₁ = 7\n",
    "x₂ = xₙ(2)\n",
    "ω̂ = 5^x₂ % 23\n",
    "println(\"x₂ = \", x₂)\n",
    "println(\"ω̂ = \", ω̂)"
   ]
  },
  {
   "cell_type": "code",
   "execution_count": 3,
   "metadata": {},
   "outputs": [
    {
     "data": {
      "text/plain": [
       "compute_option_tree (generic function with 1 method)"
      ]
     },
     "metadata": {},
     "output_type": "display_data"
    }
   ],
   "source": [
    "# ultilities function\n",
    "function construct_asset_binomial_tree(S, u, v, n, m)\n",
    "    asset = zeros(n, m)\n",
    "    for i in 1:n\n",
    "        for j in 1:i\n",
    "            asset[j, i] = S * u^(i-j) * v^(j-1)\n",
    "        end\n",
    "    end\n",
    "    return asset\n",
    "end\n",
    "\n",
    "# Function to calculate the option payoff for a call option\n",
    "function call_option_payoff(S, E)\n",
    "    return max(S - E, 0.0)\n",
    "end\n",
    "\n",
    "# Function to compute the option tree\n",
    "function compute_option_tree(asset_tree, E, r, δt, p′)\n",
    "    n, m = size(asset_tree)\n",
    "    V = zeros(n, m)\n",
    "\n",
    "    discount_factor = 1 / (1 + r * δt)\n",
    "\n",
    "    # Populate the option values at maturity\n",
    "    for i in 1:n\n",
    "        V[i, n] = call_option_payoff(asset_tree[i, n], E)\n",
    "    end\n",
    "\n",
    "    # Backward induction to fill in the rest of the option tree\n",
    "    for i in (n-1):-1:1\n",
    "        for j in 1:i\n",
    "            V⁺ = V[j, i+1]\n",
    "            V⁻ = V[j+1, i+1]\n",
    "            V[j, i] = discount_factor * (p′ * V⁺ + (1 - p′) * V⁻)\n",
    "        end\n",
    "    end\n",
    "\n",
    "    return V\n",
    "end"
   ]
  },
  {
   "cell_type": "code",
   "execution_count": 4,
   "metadata": {},
   "outputs": [
    {
     "name": "stdout",
     "output_type": "stream",
     "text": [
      "σ = 0.38"
     ]
    },
    {
     "name": "stdout",
     "output_type": "stream",
     "text": [
      "\n",
      "u = 1.1096965511460288\n",
      "v = 0.8903034488539712\n",
      "p′ = 0.5379835703414227\n"
     ]
    }
   ],
   "source": [
    "S = 101.0\n",
    "E = 101.0\n",
    "r = 10.0 / 100.0\n",
    "σ = 0.2 + ω̂ / 100 # already given this value\n",
    "δt = 1 / 12\n",
    "# derived u, v, p₁ from the given formula\n",
    "u = 1 + σ * sqrt(δt)\n",
    "v = 1 - σ * sqrt(δt)\n",
    "p′ = 1/2 + r*sqrt(δt)/2/σ\n",
    "println(\"σ = \", σ)\n",
    "println(\"u = \", u)\n",
    "println(\"v = \", v)\n",
    "println(\"p′ = \", p′)"
   ]
  },
  {
   "cell_type": "code",
   "execution_count": 5,
   "metadata": {},
   "outputs": [
    {
     "data": {
      "text/plain": [
       "5×5 Matrix{Float64}:\n",
       " 101.0  112.079   124.374   138.017   153.158\n",
       "   0.0   89.9206   99.7846  110.731   122.877\n",
       "   0.0    0.0      80.0567   88.8386   98.5839\n",
       "   0.0    0.0       0.0      71.2747   79.0933\n",
       "   0.0    0.0       0.0       0.0      63.4561"
      ]
     },
     "metadata": {},
     "output_type": "display_data"
    }
   ],
   "source": [
    "# construct the asset tree\n",
    "asset = construct_asset_binomial_tree(S, u, v, 5, 5)"
   ]
  },
  {
   "cell_type": "code",
   "execution_count": 6,
   "metadata": {},
   "outputs": [
    {
     "data": {
      "text/plain": [
       "5×5 Matrix{Float64}:\n",
       " 10.3163  16.4821  25.5438   37.8522  52.1575\n",
       "  0.0      3.3227   6.22768  11.6724  21.8774\n",
       "  0.0      0.0      0.0       0.0      0.0\n",
       "  0.0      0.0      0.0       0.0      0.0\n",
       "  0.0      0.0      0.0       0.0      0.0"
      ]
     },
     "metadata": {},
     "output_type": "display_data"
    }
   ],
   "source": [
    "# compute option using asset tree\n",
    "option = compute_option_tree(asset, E, r, δt, p′)"
   ]
  },
  {
   "cell_type": "code",
   "execution_count": 7,
   "metadata": {},
   "outputs": [
    {
     "name": "stdout",
     "output_type": "stream",
     "text": [
      "σ = 0.43\n",
      "u = 1.1241303078757696\n",
      "v = 0.8758696921242305\n",
      "p′ = 0.5335668761156759\n"
     ]
    }
   ],
   "source": [
    "# change the volatility parameter\n",
    "σ = 0.25 + ω̂ / 100\n",
    "u = 1 + σ * sqrt(δt)\n",
    "v = 1 - σ * sqrt(δt)\n",
    "p′ = 1/2 + r*sqrt(δt)/2/σ\n",
    "println(\"σ = \", σ)\n",
    "println(\"u = \", u)\n",
    "println(\"v = \", v)\n",
    "println(\"p′ = \", p′)"
   ]
  },
  {
   "cell_type": "code",
   "execution_count": 8,
   "metadata": {},
   "outputs": [
    {
     "data": {
      "text/plain": [
       "5×5 Matrix{Float64}:\n",
       " 101.0  113.537   127.631   143.473   161.283\n",
       "   0.0   88.4628   99.4438  111.788   125.664\n",
       "   0.0    0.0      77.4819   87.0998   97.9115\n",
       "   0.0    0.0       0.0      67.8641   76.2881\n",
       "   0.0    0.0       0.0       0.0      59.4401"
      ]
     },
     "metadata": {},
     "output_type": "display_data"
    }
   ],
   "source": [
    "# construct new asset tree \n",
    "new_asset = construct_asset_binomial_tree(S, u, v, 5, 5)"
   ]
  },
  {
   "cell_type": "code",
   "execution_count": 9,
   "metadata": {},
   "outputs": [
    {
     "data": {
      "text/plain": [
       "5×5 Matrix{Float64}:\n",
       " 11.4882  18.5158   28.954   43.3081  60.2828\n",
       "  0.0      3.65441   6.9061  13.0511  24.664\n",
       "  0.0      0.0       0.0      0.0      0.0\n",
       "  0.0      0.0       0.0      0.0      0.0\n",
       "  0.0      0.0       0.0      0.0      0.0"
      ]
     },
     "metadata": {},
     "output_type": "display_data"
    }
   ],
   "source": [
    "# compute option using new asset tree\n",
    "new_option = compute_option_tree(new_asset, E, r, δt, p′)"
   ]
  }
 ],
 "metadata": {
  "kernelspec": {
   "display_name": "Julia 1.10.2",
   "language": "julia",
   "name": "julia-1.10"
  },
  "language_info": {
   "file_extension": ".jl",
   "mimetype": "application/julia",
   "name": "julia",
   "version": "1.10.2"
  }
 },
 "nbformat": 4,
 "nbformat_minor": 2
}
